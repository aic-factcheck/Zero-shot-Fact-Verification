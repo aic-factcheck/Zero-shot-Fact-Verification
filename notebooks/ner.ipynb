{
 "cells": [
  {
   "cell_type": "code",
   "execution_count": 6,
   "metadata": {},
   "outputs": [],
   "source": [
    "from collections import Counter, OrderedDict\n",
    "from pathlib import Path\n",
    "import sys\n",
    "import textwrap\n",
    "from tqdm import tqdm\n",
    "import torch\n",
    "from typing import Dict, List, Set, Union\n",
    "\n",
    "from transformers import Seq2SeqTrainingArguments\n",
    "\n",
    "import unicodedata\n",
    "import uuid\n",
    "\n",
    "from aic_nlp_utils.json import read_jsonl, read_json, write_json, write_jsonl\n",
    "from aic_nlp_utils.fever import fever_detokenize, import_fever_corpus_from_sqlite\n",
    "from simpletransformers.seq2seq import Seq2SeqModel, Seq2SeqArgs\n",
    "import stanza\n",
    "# stanza.download(\"en\")\n",
    "\n",
    "sys.path.append('Claim_Generation')\n",
    "\n",
    "\n",
    "%load_ext autoreload\n",
    "%autoreload 2"
   ]
  },
  {
   "attachments": {},
   "cell_type": "markdown",
   "metadata": {},
   "source": [
    "This notebook compares various approaches to NER."
   ]
  },
  {
   "cell_type": "code",
   "execution_count": 7,
   "metadata": {},
   "outputs": [],
   "source": [
    "from transformers import AutoTokenizer, AutoModelForTokenClassification, BertTokenizerFast\n",
    "from transformers import pipeline"
   ]
  },
  {
   "cell_type": "code",
   "execution_count": 24,
   "metadata": {},
   "outputs": [],
   "source": [
    "# CZERT models\n",
    "# model_name = \"/mnt/data/factcheck/models/czert/CZERT-A-ner-CNEC\" # BAD\n",
    "model_name = \"/mnt/data/factcheck/models/czert/CZERT-B-ner-CNEC\" # BEST 2\n",
    "# model_name = \"/mnt/data/factcheck/models/czert/CZERT-A-ner-BSNLP\" # BAD\n",
    "# model_name = \"/mnt/data/factcheck/models/czert/CZERT-B-ner-BSNLP\" # OK-\n",
    "# model_name = \"/mnt/data/factcheck/models/czert/PAV-ner-CNEC\" # BEST\n",
    "# model_name = \"/mnt/data/factcheck/models/czert/PAV-ner-BSNLP\" # OK-\n",
    "model = AutoModelForTokenClassification.from_pretrained(model_name)\n",
    "tokenizer = BertTokenizerFast(Path(model_name, \"vocab.txt\"), strip_accents=False, do_lower_case=False)"
   ]
  },
  {
   "cell_type": "code",
   "execution_count": 17,
   "metadata": {},
   "outputs": [],
   "source": [
    "# Other models\n",
    "# model_name = \"richielo/small-e-czech-finetuned-ner-wikiann\" # OK-\n",
    "model_name = \"gamzenurmadan/expanded-multilingual-ner\" #OK\n",
    "# model_name = \"davidpc99/multilanguageNER\" # OK--\n",
    "# model_name = \"transformersbook/xlm-roberta-base-finetuned-panx-all\" # OK--\n",
    "# model_name = \"Andrey1989/mbert-finetuned-ner\" # BAD\n",
    "tokenizer = AutoTokenizer.from_pretrained(model_name)\n",
    "model = AutoModelForTokenClassification.from_pretrained(model_name)"
   ]
  },
  {
   "cell_type": "code",
   "execution_count": 30,
   "metadata": {},
   "outputs": [
    {
     "name": "stdout",
     "output_type": "stream",
     "text": [
      "{'entity_group': 'G', 'score': 0.99717367, 'word': 'Jihomoravském', 'start': 136, 'end': 149}\n",
      "{'entity_group': 'I', 'score': 0.99903405, 'word': 'Národní ekonomická rada vlády', 'start': 291, 'end': 320}\n",
      "{'entity_group': 'I', 'score': 0.99836475, 'word': 'NERV', 'start': 322, 'end': 326}\n"
     ]
    }
   ],
   "source": [
    "nlp = pipeline(\"ner\", model=model, tokenizer=tokenizer, aggregation_strategy=\"first\")\n",
    "# example = \"Šéf soukromé žoldnéřské Wagnerovy skupiny Jevgenij Prigožin v úterý obvinil ruskou armádu, že její vojáci uprostřed těžkých bojů prchají ze svých pozic u Bachmutu.\"\n",
    "\n",
    "example=\"Hrozí likvidace malých vinařů, bouří se proti zavedení spotřební daně na víno poslanci napříč politickým spektrem, kteří byli zvoleni v Jihomoravském kraji. Také varují před navýšením byrokracie a ztrátou konkurenceschopnosti. Vládě zavedení spotřební daně na takzvaná tichá vína doporučila Národní ekonomická rada vlády (NERV) jako součást konsolidačního balíčku, který chce premiér Petr Fiala (ODS) představit v polovině května.\"\n",
    "\n",
    "# example=\"Petr Fiala a jeho 5 ministrů Úřadu vlády 14. dubna rozhodlo o rozpočtu na rok 2023.\"\n",
    "ner_results = nlp(example)\n",
    "\n",
    "for r in ner_results:\n",
    "    print(r)"
   ]
  },
  {
   "cell_type": "code",
   "execution_count": 27,
   "metadata": {},
   "outputs": [],
   "source": []
  },
  {
   "cell_type": "code",
   "execution_count": 28,
   "metadata": {},
   "outputs": [],
   "source": [
    "# Nametag, misses many NERs\n",
    "\n",
    "from ufal.nametag import Ner, Forms, TokenRanges, NamedEntities\n",
    "\n",
    "class UFALNERExtractor:\n",
    "\n",
    "    def __init__(self, model):\n",
    "        self.ner = Ner.load(model)\n",
    "        self.forms = Forms()\n",
    "        self.tokens = TokenRanges()\n",
    "        self.entities = NamedEntities()\n",
    "        self.tokenizer = self.ner.newTokenizer()\n",
    "        \n",
    "    def extract(self, claim):\n",
    "        self.tokenizer.setText(claim)\n",
    "        ners = []\n",
    "        nertypes = []\n",
    "        while self.tokenizer.nextSentence(self.forms, self.tokens):\n",
    "            self.ner.recognize(self.forms, self.entities)\n",
    "            \n",
    "            entities = sorted(self.entities, key=lambda entity: (entity.start, -entity.length))\n",
    "            \n",
    "            prev_end = -1\n",
    "            for entity in entities:\n",
    "                if (entity.start + entity.length) <= prev_end: # take only the highest level entities\n",
    "                    continue\n",
    "                ners.append(\" \".join(self.forms[entity.start:entity.start+entity.length]))\n",
    "                nertypes.append(entity.type)\n",
    "                prev_end = entity.start + entity.length\n",
    "\n",
    "        return ners, nertypes\n",
    "\n",
    "\n",
    "extractor = UFALNERExtractor(\"/mnt/data/factcheck/ufal/ner/czech-cnec2.0-140304-no_numbers.ner\")"
   ]
  },
  {
   "cell_type": "code",
   "execution_count": 31,
   "metadata": {},
   "outputs": [
    {
     "data": {
      "text/plain": [
       "(['Petr Fiala', 'ODS'], ['P', 'io'])"
      ]
     },
     "execution_count": 31,
     "metadata": {},
     "output_type": "execute_result"
    }
   ],
   "source": [
    "extractor.extract(example)"
   ]
  },
  {
   "cell_type": "code",
   "execution_count": null,
   "metadata": {},
   "outputs": [],
   "source": []
  }
 ],
 "metadata": {
  "kernelspec": {
   "display_name": "fc_env_plight_env",
   "language": "python",
   "name": "fc_env_plight_env"
  },
  "orig_nbformat": 4
 },
 "nbformat": 4,
 "nbformat_minor": 2
}

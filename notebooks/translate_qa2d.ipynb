{
 "cells": [
  {
   "cell_type": "code",
   "execution_count": 5,
   "metadata": {},
   "outputs": [],
   "source": [
    "from pathlib import Path\n",
    "import sys\n",
    "import time\n",
    "\n",
    "from aic_nlp_utils.fever import fever_detokenize\n",
    "from aic_nlp_utils.json import process_to_jsonl, write_jsonl, read_jsonl\n",
    "import pandas as pd"
   ]
  },
  {
   "attachments": {},
   "cell_type": "markdown",
   "metadata": {},
   "source": [
    "Import as DataFrame. Fix formatting."
   ]
  },
  {
   "cell_type": "code",
   "execution_count": 7,
   "metadata": {},
   "outputs": [],
   "source": [
    "def import_qa2d(fname):\n",
    "    df = pd.read_csv(fname, sep='\\t')\n",
    "    for col in [\"question\", \"answer\", \"turker_answer\", \"rule-based\"]:\n",
    "        df[col] = df[col].apply(lambda txt: fever_detokenize(str(txt)).replace(\"` \", \"'\"))\n",
    "    return df\n",
    "\n",
    "\n",
    "ROOT_DIR = \"/mnt/data/factcheck/qa2d\"\n",
    "df_train = import_qa2d(Path(ROOT_DIR, \"raw\", \"train.tsv\"))\n",
    "df_dev = import_qa2d(Path(ROOT_DIR, \"raw\", \"dev.tsv\"))"
   ]
  },
  {
   "attachments": {},
   "cell_type": "markdown",
   "metadata": {},
   "source": [
    "Export texts from each column to separate files. Text per-line. This is an appropriate format for the DeepL translation. FireFox allows largest amount of text to be processed at once (vs. Safari, Chrome and Edge on Mac)."
   ]
  },
  {
   "cell_type": "code",
   "execution_count": 9,
   "metadata": {},
   "outputs": [],
   "source": [
    "Path(ROOT_DIR, \"en\").mkdir(parents=True, exist_ok=True)\n",
    "for col in [\"question\", \"answer\", \"turker_answer\", \"rule-based\"]:\n",
    "    with open(Path(ROOT_DIR, \"en\", f\"train_{col}.txt\"), \"wt\") as f:\n",
    "        f.write('\\n'.join(list(map(fever_detokenize, df_train[col].values))))\n",
    "for col in [\"question\", \"answer\", \"turker_answer\", \"rule-based\"]:\n",
    "    with open(Path(ROOT_DIR, \"en\", f\"dev_{col}.txt\"), \"wt\") as f:\n",
    "        f.write('\\n'.join(list(map(fever_detokenize, df_dev[col].values))))"
   ]
  },
  {
   "attachments": {},
   "cell_type": "markdown",
   "metadata": {},
   "source": [
    "Now convert back to single JSONL file formatted for training QA2D models."
   ]
  },
  {
   "cell_type": "code",
   "execution_count": 10,
   "metadata": {},
   "outputs": [],
   "source": [
    "def convert_translated_to_jsonl(fin_prefix, fout):\n",
    "    cols = [\"question\", \"answer\", \"turker_answer\", \"rule-based\"]\n",
    "    data = {}\n",
    "    for col in cols:\n",
    "        fin = f\"{fin_prefix}_{col}.txt\"\n",
    "        with open(fin) as f:\n",
    "            data[col] = f.readlines()\n",
    "    lens = [len(data[col]) for col in cols]\n",
    "    assert len(set(lens)) == 1, set(lens)\n",
    "    n = list(set(lens))[0]\n",
    "    \n",
    "    result = []\n",
    "    for i in range(n):\n",
    "        Q, A, T, R = [data[col][i].strip() for col in cols]\n",
    "        result.append({\"question\": Q, \"answer\": A, \"turker_answer\": T, \"rule-based\": R})\n",
    "    write_jsonl(fout, result)"
   ]
  },
  {
   "cell_type": "code",
   "execution_count": 11,
   "metadata": {},
   "outputs": [],
   "source": [
    "# convert also the original EN version to train our own models\n",
    "convert_translated_to_jsonl(Path(ROOT_DIR, \"en\", \"dev\"), Path(ROOT_DIR, \"en\", \"dev.jsonl\"))\n",
    "convert_translated_to_jsonl(Path(ROOT_DIR, \"en\", \"train\"), Path(ROOT_DIR, \"en\", \"train.jsonl\"))"
   ]
  },
  {
   "cell_type": "code",
   "execution_count": 12,
   "metadata": {},
   "outputs": [],
   "source": [
    "convert_translated_to_jsonl(Path(ROOT_DIR, \"cs\", \"dev\"), Path(ROOT_DIR, \"cs\", \"dev.jsonl\"))\n",
    "convert_translated_to_jsonl(Path(ROOT_DIR, \"cs\", \"train\"), Path(ROOT_DIR, \"cs\", \"train.jsonl\"))"
   ]
  },
  {
   "cell_type": "code",
   "execution_count": 13,
   "metadata": {},
   "outputs": [],
   "source": [
    "convert_translated_to_jsonl(Path(ROOT_DIR, \"pl\", \"dev\"), Path(ROOT_DIR, \"pl\", \"dev.jsonl\"))\n",
    "convert_translated_to_jsonl(Path(ROOT_DIR, \"pl\", \"train\"), Path(ROOT_DIR, \"pl\", \"train.jsonl\"))"
   ]
  },
  {
   "cell_type": "code",
   "execution_count": null,
   "metadata": {},
   "outputs": [],
   "source": []
  }
 ],
 "metadata": {
  "kernelspec": {
   "display_name": "fc_env_plight_env",
   "language": "python",
   "name": "fc_env_plight_env"
  },
  "language_info": {
   "codemirror_mode": {
    "name": "ipython",
    "version": 3
   },
   "file_extension": ".py",
   "mimetype": "text/x-python",
   "name": "python",
   "nbconvert_exporter": "python",
   "pygments_lexer": "ipython3",
   "version": "3.9.6"
  },
  "orig_nbformat": 4
 },
 "nbformat": 4,
 "nbformat_minor": 2
}

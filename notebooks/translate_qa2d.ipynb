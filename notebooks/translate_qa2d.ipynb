{
 "cells": [
  {
   "cell_type": "code",
   "execution_count": 1,
   "metadata": {},
   "outputs": [
    {
     "name": "stderr",
     "output_type": "stream",
     "text": [
      "/home/drchajan/devel/python/FC/aic-nlp-utils/aic_nlp_utils/json.py:2: TqdmExperimentalWarning: Using `tqdm.autonotebook.tqdm` in notebook mode. Use `tqdm.tqdm` instead to force console mode (e.g. in jupyter console)\n",
      "  from tqdm.autonotebook import tqdm\n"
     ]
    }
   ],
   "source": [
    "from pathlib import Path\n",
    "import sys\n",
    "import time\n",
    "\n",
    "from aic_nlp_utils.fever import fever_detokenize\n",
    "from aic_nlp_utils.json import process_to_jsonl, write_jsonl, read_jsonl\n",
    "import pandas as pd"
   ]
  },
  {
   "attachments": {},
   "cell_type": "markdown",
   "metadata": {},
   "source": [
    "Import as DataFrame. Fix formatting."
   ]
  },
  {
   "cell_type": "code",
   "execution_count": 4,
   "metadata": {},
   "outputs": [],
   "source": [
    "def import_qa2d(fname):\n",
    "    df = pd.read_csv(fname, sep='\\t')\n",
    "    for col in [\"question\", \"answer\", \"turker_answer\", \"rule-based\"]:\n",
    "        df[col] = df[col].apply(lambda txt: fever_detokenize(str(txt)).replace(\"` \", \"'\"))\n",
    "    return df\n",
    "\n",
    "\n",
    "ROOT_DIR = \"/mnt/data/factcheck/qa2d\"\n",
    "df_train = import_qa2d(Path(ROOT_DIR, \"raw\", \"train.tsv\"))\n",
    "df_dev = import_qa2d(Path(ROOT_DIR, \"raw\", \"dev.tsv\"))"
   ]
  },
  {
   "attachments": {},
   "cell_type": "markdown",
   "metadata": {},
   "source": [
    "Export texts from each column to separate files. Text per-line. This is an appropriate format for the DeepL translation. FireFox allows largest amount of text to be processed at once (vs. Safari, Chrome and Edge on Mac)."
   ]
  },
  {
   "cell_type": "code",
   "execution_count": 9,
   "metadata": {},
   "outputs": [],
   "source": [
    "Path(ROOT_DIR, \"en\").mkdir(parents=True, exist_ok=True)\n",
    "for col in [\"question\", \"answer\", \"turker_answer\", \"rule-based\"]:\n",
    "    with open(Path(ROOT_DIR, \"en\", f\"train_{col}.txt\"), \"wt\") as f:\n",
    "        f.write('\\n'.join(list(map(fever_detokenize, df_train[col].values))))\n",
    "for col in [\"question\", \"answer\", \"turker_answer\", \"rule-based\"]:\n",
    "    with open(Path(ROOT_DIR, \"en\", f\"dev_{col}.txt\"), \"wt\") as f:\n",
    "        f.write('\\n'.join(list(map(fever_detokenize, df_dev[col].values))))"
   ]
  },
  {
   "attachments": {},
   "cell_type": "markdown",
   "metadata": {},
   "source": [
    "Now convert externally translated versions of files back to single JSONL file formatted for training QA2D models."
   ]
  },
  {
   "cell_type": "code",
   "execution_count": 10,
   "metadata": {},
   "outputs": [
    {
     "data": {
      "text/plain": [
       "'572812523acd2414000df3bf'"
      ]
     },
     "execution_count": 10,
     "metadata": {},
     "output_type": "execute_result"
    }
   ],
   "source": [
    "df_train.iloc[0].example_uid"
   ]
  },
  {
   "cell_type": "code",
   "execution_count": 12,
   "metadata": {},
   "outputs": [],
   "source": [
    "def convert_translated_to_jsonl(df, fin_prefix, fout):\n",
    "    cols = [\"question\", \"answer\", \"turker_answer\", \"rule-based\"]\n",
    "    data = {}\n",
    "    for col in cols:\n",
    "        fin = f\"{fin_prefix}_{col}.txt\"\n",
    "        with open(fin) as f:\n",
    "            data[col] = f.readlines()\n",
    "    lens = [len(data[col]) for col in cols]\n",
    "    assert len(set(lens)) == 1, set(lens)\n",
    "    assert lens[0] == len(df), \"The number of translated lines does not match the original data.\"\n",
    "    n = list(set(lens))[0]\n",
    "    \n",
    "    result = []\n",
    "    for i in range(n):\n",
    "        Q, A, T, R = [data[col][i].strip() for col in cols]\n",
    "        D = df_train.iloc[i].dataset\n",
    "        uid = df_train.iloc[i].example_uid\n",
    "        result.append({\"question\": Q, \"answer\": A, \"turker_answer\": T, \"rule-based\": R, \"dataset\": D, \"example_uid\": uid})\n",
    "    write_jsonl(fout, result)"
   ]
  },
  {
   "cell_type": "code",
   "execution_count": 14,
   "metadata": {},
   "outputs": [],
   "source": [
    "# convert also the original EN version to train our own models\n",
    "convert_translated_to_jsonl(df_dev, Path(ROOT_DIR, \"en\", \"dev\"), Path(ROOT_DIR, \"en\", \"dev.jsonl\"))\n",
    "convert_translated_to_jsonl(df_train, Path(ROOT_DIR, \"en\", \"train\"), Path(ROOT_DIR, \"en\", \"train.jsonl\"))"
   ]
  },
  {
   "cell_type": "code",
   "execution_count": 15,
   "metadata": {},
   "outputs": [],
   "source": [
    "convert_translated_to_jsonl(df_dev, Path(ROOT_DIR, \"cs\", \"dev\"), Path(ROOT_DIR, \"cs\", \"dev.jsonl\"))\n",
    "convert_translated_to_jsonl(df_train, Path(ROOT_DIR, \"cs\", \"train\"), Path(ROOT_DIR, \"cs\", \"train.jsonl\"))"
   ]
  },
  {
   "cell_type": "code",
   "execution_count": 16,
   "metadata": {},
   "outputs": [],
   "source": [
    "convert_translated_to_jsonl(df_dev, Path(ROOT_DIR, \"pl\", \"dev\"), Path(ROOT_DIR, \"pl\", \"dev.jsonl\"))\n",
    "convert_translated_to_jsonl(df_train, Path(ROOT_DIR, \"pl\", \"train\"), Path(ROOT_DIR, \"pl\", \"train.jsonl\"))"
   ]
  },
  {
   "cell_type": "code",
   "execution_count": 13,
   "metadata": {},
   "outputs": [],
   "source": [
    "convert_translated_to_jsonl(df_dev, Path(ROOT_DIR, \"sk\", \"dev\"), Path(ROOT_DIR, \"sk\", \"dev.jsonl\"))\n",
    "convert_translated_to_jsonl(df_train, Path(ROOT_DIR, \"sk\", \"train\"), Path(ROOT_DIR, \"sk\", \"train.jsonl\"))"
   ]
  },
  {
   "cell_type": "code",
   "execution_count": null,
   "metadata": {},
   "outputs": [],
   "source": []
  }
 ],
 "metadata": {
  "kernelspec": {
   "display_name": "hflarge",
   "language": "python",
   "name": "hflarge"
  },
  "language_info": {
   "codemirror_mode": {
    "name": "ipython",
    "version": 3
   },
   "file_extension": ".py",
   "mimetype": "text/x-python",
   "name": "python",
   "nbconvert_exporter": "python",
   "pygments_lexer": "ipython3",
   "version": "3.10.4"
  },
  "orig_nbformat": 4
 },
 "nbformat": 4,
 "nbformat_minor": 2
}

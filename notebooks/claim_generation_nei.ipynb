{
 "cells": [
  {
   "cell_type": "code",
   "execution_count": 1,
   "metadata": {},
   "outputs": [],
   "source": [
    "from collections import defaultdict, Counter, OrderedDict\n",
    "import ujson\n",
    "import pathlib\n",
    "from pathlib import Path\n",
    "import sqlite3\n",
    "import sys\n",
    "import textwrap\n",
    "import torch\n",
    "from tqdm import tqdm\n",
    "from typing import Dict, List, Set, Union\n",
    "\n",
    "import unicodedata\n",
    "\n",
    "import uuid\n",
    "\n",
    "import numpy as np\n",
    "\n",
    "%load_ext autoreload\n",
    "%autoreload 2\n",
    "\n",
    "from aic_nlp_utils.batch import batch_apply\n",
    "from aic_nlp_utils.encoding import nfc\n",
    "from aic_nlp_utils.json import read_jsonl, read_json, write_json, write_jsonl\n",
    "from aic_nlp_utils.fever import fever_detokenize, import_fever_corpus_from_sqlite\n",
    "\n",
    "from zshot_fact_verify.qa2d.qa2d import SameDocumentNERReplacementGenerator\n",
    "from zshot_fact_verify.wiki.load import load_corpus, create_corpus_splits, select_nei_context_for_splits, load_nei_ners\n",
    "from zshot_fact_verify.models.load import load_tokenizer_and_model\n",
    "from zshot_fact_verify.models.arguments import ModelArguments"
   ]
  },
  {
   "cell_type": "code",
   "execution_count": 2,
   "metadata": {},
   "outputs": [
    {
     "name": "stdout",
     "output_type": "stream",
     "text": [
      "imported 514568 corpus pages.\n"
     ]
    }
   ],
   "source": [
    "SEED = 1234\n",
    "NER_ROOT = '/mnt/data/factcheck/wiki/cs/20230220/qacg/ner/PAV-ner-CNEC'\n",
    "WIKI_CORPUS = '/mnt/data/factcheck/wiki/cs/20230220/paragraphs/cswiki-20230220-paragraphs.jsonl'\n",
    "SPLITS  = [\n",
    "            {\"name\": \"train\", \"file\": Path(NER_ROOT, \"train_ners.json\"), \"size\": 10000},\n",
    "            {\"name\": \"dev\", \"file\": Path(NER_ROOT, \"dev_ners.json\"), \"size\": 1000},\n",
    "            {\"name\": \"test\", \"file\": Path(NER_ROOT, \"test_ners.json\"), \"size\": 1000},\n",
    "        ]\n",
    "corpus, corpus_id2idx, corpus_pages = load_corpus(WIKI_CORPUS)\n",
    "corpus_recs_lst = create_corpus_splits(corpus, corpus_id2idx, SPLITS, SEED)\n",
    "corpus_recs_lst = select_nei_context_for_splits(corpus, corpus_id2idx, corpus_recs_lst, SEED)"
   ]
  },
  {
   "cell_type": "code",
   "execution_count": 3,
   "metadata": {},
   "outputs": [
    {
     "data": {
      "text/plain": [
       "dict"
      ]
     },
     "execution_count": 3,
     "metadata": {},
     "output_type": "execute_result"
    }
   ],
   "source": [
    "type(corpus_recs_lst[0][0])"
   ]
  },
  {
   "cell_type": "code",
   "execution_count": 4,
   "metadata": {},
   "outputs": [
    {
     "data": {
      "text/plain": [
       "3"
      ]
     },
     "execution_count": 4,
     "metadata": {},
     "output_type": "execute_result"
    }
   ],
   "source": [
    "len(corpus_recs_lst)"
   ]
  },
  {
   "cell_type": "code",
   "execution_count": 5,
   "metadata": {},
   "outputs": [
    {
     "data": {
      "text/plain": [
       "{'id': 'Smil_Flaška_z_Pardubic_5',\n",
       " 'did': 'Smil_Flaška_z_Pardubic',\n",
       " 'bid': 5,\n",
       " 'text': 'Potomci.\\nSmil zplodil tři potomky, z nichž byl jeden syn a dvě dcery:\\nDílo.\\nSmilovi bylo rovněž připisováno autorství několika dalších děl, jež vykazují společné rysy. Jedná se o \"Sbírku přísloví\", \"Rady otce synovi\", satiry \"Svár vody s vínem\" a \"Podkoní a žák\", \"O ženě svárlivé\" a \"Roudnické umučení\". Jan Gebauer či Julius Feifalik Smilovo autorství u těchto děl zpochybňovali, naopak Prokop Miroslav Haškovec Smilovo autorství uvedených básní podporoval. Literární historik Josef Hrabák autorství skladeb neurčoval, namísto toho je zařadil do tzv. Smilovy školy, neboť si jsou vzájemně podobné a příbuzné se Smilovou \"Novou radou\".',\n",
       " 'url': 'https://cs.wikipedia.org/wiki?curid=6099',\n",
       " 'revid': '390445',\n",
       " 'nei_id': 'Smil_Flaška_z_Pardubic_3',\n",
       " 'nei_bid': 3,\n",
       " 'nei_text': 'V roce 1394 se proti králi Václavovi IV. postavila panská jednota, vůdčí roli v tomto uskupení zaujali moravský markrabě Jošt a jeho bratr Zikmund Lucemburský. Té se roku 1395 podařilo krále Václava IV. zatknout a uvrhnout z do vězení, odkud ho vyprostil Jan Zhořelecký. Později se však podařilo vyjednat příměří mezi panskou jednotou a králem Václavem, s čímž přišlo i nové obsazení zemských úřadů. Poněvadž Smil 10. ledna 1395 do panské jednoty vstoupil, byla mu roku 1396 udělena funkce nejvyššího zemského písaře. V roce 1398 se ovšem úřadu zřekl, protože nesouhlasil s postupem moravského markraběte Prokopa, jenž na místo nejvyššího komorníka jmenoval Heřmana z Choustníka. Téhož roku zaútočil s Bočkem z Kunštátu na hrad Potštejn. Roku 1399 se navrátil zpět do funkce nejvyššího zemského písaře.'}"
      ]
     },
     "execution_count": 5,
     "metadata": {},
     "output_type": "execute_result"
    }
   ],
   "source": [
    "corpus_recs_lst[0][1]"
   ]
  },
  {
   "cell_type": "code",
   "execution_count": 6,
   "metadata": {},
   "outputs": [],
   "source": [
    "NER_FILE = '/mnt/data/factcheck/wiki/cs/20230220/qacg/ner/PAV-ner-CNEC/dev_ners.json'\n",
    "NEI_NER_FILE = '/mnt/data/factcheck/wiki/cs/20230220/qacg/ner/PAV-ner-CNEC/nei_dev_ners.json'\n",
    "\n",
    "original_ners = read_json(NER_FILE)\n",
    "nei_ners = load_nei_ners(corpus_recs_lst[1], original_ners, NEI_NER_FILE)"
   ]
  },
  {
   "cell_type": "code",
   "execution_count": 7,
   "metadata": {},
   "outputs": [],
   "source": [
    "from zshot_fact_verify.qg.question_generation import BatchQuestionGenerator, generate_questions\n",
    "\n",
    "LANG = \"cs_CZ\"\n",
    "MODEL_NAME = f\"/home/drchajan/devel/python/FC/Zero-shot-Fact-Verification/experiments/qg/google/mt5-large_{LANG}/checkpoint-59000\"\n",
    "\n",
    "model_args = ModelArguments(model_name_or_path=MODEL_NAME)\n",
    "tokenizer, model, data_collator = load_tokenizer_and_model(model_args, lang=LANG, fp16=True)\n",
    "\n",
    "batch_question_generator = BatchQuestionGenerator(tokenizer, model, highlight=False, padding=True, device=\"cpu\", debug=False)"
   ]
  },
  {
   "cell_type": "code",
   "execution_count": 8,
   "metadata": {},
   "outputs": [
    {
     "data": {
      "text/plain": [
       "'/home/drchajan/devel/python/FC/Zero-shot-Fact-Verification'"
      ]
     },
     "execution_count": 8,
     "metadata": {},
     "output_type": "execute_result"
    }
   ],
   "source": [
    "%pwd"
   ]
  },
  {
   "cell_type": "code",
   "execution_count": 10,
   "metadata": {},
   "outputs": [
    {
     "data": {
      "text/plain": [
       "[{'id': 'Hertzsprungův–Russellův_diagram_4',\n",
       "  'did': 'Hertzsprungův–Russellův_diagram',\n",
       "  'bid': 4,\n",
       "  'text': 'V jiné verzi diagramu se vynáší efektivní povrchová teplota hvězdy na vodorovné ose a svítivost hvězdy na svislé ose, obvykle v log-log souřadnicích. Tato varianta se používá pro zobrazení teoretických výpočtů vývoje hvězd, mohla by se označovat diagram teplota-svítivost, ale většinou se označuje jako teoretický Hertzsprungův–Russellův diagram. Zvláštností této verze je, že teplota na vodorovné ose se vynáší obráceně - zleva doprava teplota klesá - usnadňuje to porovnání s předchozí verzí.',\n",
       "  'url': 'https://cs.wikipedia.org/wiki?curid=603640',\n",
       "  'revid': '46874',\n",
       "  'nei_id': 'Hertzsprungův–Russellův_diagram_22',\n",
       "  'nei_bid': 22,\n",
       "  'nei_text': 'Hvězda o hmotnosti 50 \"MS\" setrvá na hlavní posloupnosti přibližně 100 milionů let.\\nKdyž hvězda spálí veškeré své zásoby jaderného paliva (vodík), začne se vlivem vlastní gravitace hroutit, což zapříčiní další zvýšení teploty. Zahříváním se v jádru opět zažehnou jaderné reakce a začne se spalovat helium. Hvězda se tím opět rozepne, zchladne a dostane se do oblasti obrů (bod 4). Větší povrch však převáží úbytek teploty a hvězda září s mnohem větší intenzitou – zářivý výkon v tomto období hvězdy je úměrný čtvrté mocnině hmotnosti. V této době hvězda o hmotnosti 50 \"MS\" setrvá maximálně v řádu desítek milionů let.'},\n",
       " {'id': 'Nevěsta_duchů_2',\n",
       "  'did': 'Nevěsta_duchů',\n",
       "  'bid': 2,\n",
       "  'text': 'Vznik a historie díla.\\nRomantickou operu na německé libreto \"Nevěsta duchů\" napsal Škroup brzy poté, co roku 1835 dokončil kompozici české opery \"Libušin sňatek\", ale nepodařilo se mu zajistit její provedení. Na základě dřívějšího úspěchu své německé verze \"Oldřicha a Boženy\" (1833), ke které napsal přepracované libreto pražský literát Ferdinand Valentin Ernst, se Škroup rozhodl další operu složit rovněž na slova tohoto spisovatele. Nové libreto vzniklo na námět stejnojmenné povídky (\"The Spectre Bridegroom\") amerického spisovatele Washingtona Irwinga ze sbírky \"The Sketch Book of Geoffrey Crayon, Gent.\". Příběh těží z dobově oblíbených \"gotických\" románů a povídek, ale zdánlivě nadpřirozený prvek má racionální základ.',\n",
       "  'url': 'https://cs.wikipedia.org/wiki?curid=671327',\n",
       "  'revid': '17891',\n",
       "  'nei_id': 'Nevěsta_duchů_4',\n",
       "  'nei_bid': 4,\n",
       "  'nei_text': 'Děj opery.\\nHrabě z Landhorstu má dceru jménem Luitgarde, kterou ve věku, kdy stěží uměla mluvit, zaslíbil synu svého spolubojovníka a důvěrného přítele, hraběte Altenburga. Když mladý Altenburg dozrál v muže, jel si pro svou nevěstu. Hrabě Langhorst ani jeho dcera neznají ženicha osobně, ale očekávají jeho příjezd a připravují svatební hostinu; připravují se světla, nápoje a pokrmy, dvě tety strojí nevěstu. Avšak ranou osudu byl mladý Altenburg cestou k hraběti přepaden a zabit. S touto novinkou přichází mladý Starkenberg, přítel zavražděného. Je však při příchodu přivítán s jásotem a mylně pokládán za ženicha, aniž je mu dána příležitost vysvětlit, co se událo. Navíc mu učaruje Luitgardina krása. Proto nakonec předstírá, že je očekávaným ženichem, a přijímá místo u svatebního stolu.'},\n",
       " {'id': 'Finn_Malmgren_3',\n",
       "  'did': 'Finn_Malmgren',\n",
       "  'bid': 3,\n",
       "  'text': 'V letech 1922 až 1925 se účastnil arktické expedice Roalda Amundsena a Haralda Sverdrupa na lodi Maud. V roce 1926 byl na palubě italské vzducholodi Norge, která přeletěla severní pól. Během letu obsluhoval přístroj na měření elektrické vodivosti atmosféry, patřící českému fyzikovi Františku Běhounkovi.',\n",
       "  'url': 'https://cs.wikipedia.org/wiki?curid=1309713',\n",
       "  'revid': '6495',\n",
       "  'nei_id': 'Finn_Malmgren_4',\n",
       "  'nei_bid': 4,\n",
       "  'nei_text': 'Na počátku roku 1927 byl jmenován komandérem řádu svatého Olafa.\\nÚčast v expedici vzducholodi Italia.\\nV roce 1928 se připojil k výpravě Umberta Nobileho se vzducholodí Italia. Během třetího letu 25. května se po nárazu do ledové kry odtrhla velitelská kabina. Vzducholoď, odlehčená o hmotnost kabiny, se opět vznesla a zmizela beze stopy se šesti muži na palubě. Mezi devíti členy posádky, kteří uvízli na plovoucím ledu byl Malmgren se zraněným ramenem, velitel výpravy Nobile i František Běhounek. Malmgren, spolu s italskými důstojníky Filippem Zappim a Adalbertem Marianem se 30. května vydali na pochod po ledu pro pomoc. Podle pozdějších výpovědí Zappiho a Mariana před vyšetřovací komisí snášel Malmgren obtíže pochodu od začátku špatně a později utrpěl těžkou omrzlinu na noze. Po dvanácti dnech již neměl sílu pokračovat v cestě a na vlastní žádost byl ponechán na místě.'},\n",
       " {'id': 'Říční_systém_12',\n",
       "  'did': 'Říční_systém',\n",
       "  'bid': 12,\n",
       "  'text': 'Asymetrická říční síť.\\nVzor drenáže je popisován jako nesouhlasný, pokud nekoreluje s topografií a geologií oblasti. Nesouhlasné říční vzory jsou rozděleny do dvou hlavních typů: \"antecedentní\" a \"superponované\", zatímco \"předběžné\" drenážní vzory je kombinují. Při \"antecedentní\" drenáži se vertikální schopnost řeky shoduje s výškou půdy v důsledku tektonických sil. \"Superponovaná\" drenáž se vyvíjí jinak: zpočátku se drenážní systém vyvíjí na povrchu složeném z „mladších“ hornin, ale kvůli denudativním činnostem je tento povrch mladších hornin odstraněn a řeka stále teče přes zdánlivě nový povrch, ale ve skutečnosti je vytvořen na skalách staré geologické formace.',\n",
       "  'url': 'https://cs.wikipedia.org/wiki?curid=1540249',\n",
       "  'revid': '397014',\n",
       "  'nei_id': 'Říční_systém_1',\n",
       "  'nei_bid': 1,\n",
       "  'nei_text': 'Říční systémy, také známé jako říční soustavy či říční sítě, jsou v geomorfologii vzory vytvořené potoky, řekami a jezery v konkrétním povodí. Řídí se topografií země, ať už v určité oblasti dominují tvrdé nebo měkké skály, a gradientem země. Geomorfologové a hydrologové často vidí proudy jako součást povodí. Drenážní nádrž je topografická oblast, ze které proud dostává odtok , průtok a tok podzemní vody. Počet, velikost a tvar povodí nalezený v oblasti se liší s velikostí topografické mapy, čím je mapa větší, tím více informací o povodí je k dispozici.'},\n",
       " {'id': 'Elektromagnetická_zbraň_1',\n",
       "  'did': 'Elektromagnetická_zbraň',\n",
       "  'bid': 1,\n",
       "  'text': 'Elektromagnetická zbraň či vysokofrekvenční zbraň je zbraň působící na cíl vyzařovanými elektromagnetickými vlnami. Vlnění vysokých radiových frekvencí poškozuje elektroniku, mikrovlnné frekvence mohou ovlivňovat i mozkovou činnost lidí. Elektromagnetické zbraně jsou kategorií neletálních zbraní (Non-Lethal Weapons), což jsou takové zbraně, které mají na určitou dobu vyřadit z činnosti vybranou skupinu lidí, aniž by přímo ohrozily jejich životy, nebo vyřadit z činnosti vybrané druhy vojenské techniky, resp. znemožnit jim vést bojovou činnost.',\n",
       "  'url': 'https://cs.wikipedia.org/wiki?curid=666245',\n",
       "  'revid': '6495',\n",
       "  'nei_id': 'Elektromagnetická_zbraň_2',\n",
       "  'nei_bid': 2,\n",
       "  'nei_text': 'Vysokofrekvenční zbraně vyzařují elektromagnetickou energii v části elektromagnetického spektra rádiových vln. Mechanismus působení vysokofrekvenčních zbraní na lidský organismus je možné rozdělit na energetický a informační. Nejvíce je prozkoumáno tepelné působení silných toků vysokofrekvenční energie. Vysokofrekvenční elektromagnetické záření, v závislosti na nosném kmitočtu a výkonu, narušuje činnost mozku a centrální nervové soustavy a dočasně vyřazuje člověka z činnosti. Může způsobovat poruchy vnímání, únavu a ospalost nebo naopak neklid a stres, pocit hladu, žízně, teploty, chladu, bolesti, svědění a někdy i další vedlejší vjemy. Účinek je jedincem vnímán současně jako nesnesitelný bolestivý pocit intenzivních šumů a pískání, doprovázený úzkostí a nevolností v závislosti na konkrétních podmínkách a parametrech signálu.'},\n",
       " {'id': 'Gustav_Thurn-Balsassina_4',\n",
       "  'did': 'Gustav_Thurn-Balsassina',\n",
       "  'bid': 4,\n",
       "  'text': 'Zemřel v červenci 1888.',\n",
       "  'url': 'https://cs.wikipedia.org/wiki?curid=1114985',\n",
       "  'revid': '6495',\n",
       "  'nei_id': 'Gustav_Thurn-Balsassina_0',\n",
       "  'nei_bid': 0,\n",
       "  'nei_text': 'Gustav Thurn-Balsassina'},\n",
       " {'id': 'Josef_Kovářík_5',\n",
       "  'did': 'Josef_Kovářík',\n",
       "  'bid': 5,\n",
       "  'text': 'Úmrtí.\\nJosef Kovářík zemřel 11. září 1940 v Prostějově a byl pohřben v rodinné hrobce na místním městském hřbitově.',\n",
       "  'url': 'https://cs.wikipedia.org/wiki?curid=1631393',\n",
       "  'revid': '300148',\n",
       "  'nei_id': 'Josef_Kovářík_0',\n",
       "  'nei_bid': 0,\n",
       "  'nei_text': 'Josef Kovářík'},\n",
       " {'id': 'Kostel_svatého_Mikuláše_(Starý_Maletín)_7',\n",
       "  'did': 'Kostel_svatého_Mikuláše_(Starý_Maletín)',\n",
       "  'bid': 7,\n",
       "  'text': 'BŘEZINA, Jan: \"Zábřežsko v období feudalismu do roku\" \"1848\", Ostrava 1963',\n",
       "  'url': 'https://cs.wikipedia.org/wiki?curid=386935',\n",
       "  'revid': '487267',\n",
       "  'nei_id': 'Kostel_svatého_Mikuláše_(Starý_Maletín)_2',\n",
       "  'nei_bid': 2,\n",
       "  'nei_text': 'Historie.\\nPrvní zpráva o maletínské faře pochází z roku 1583, ale zřejmě existovala mnohem dříve. Původní kostel postavený v gotickém slohu se samostatnou dřevěnou věží, která stála v blízkosti, byl zbourán v roce 1803 a téhož roku byl položen základní kámen pro novou stavbu. Kostel byl vystavěn podle projektu \"Jana Sarkandera Thalherra\". Na rozdíl od původního kostela byl presbytář orientován směrem na jih, hlavní vchod k severu. Hlavní finanční podíl na výstavbě měl olomoucký arcibiskup Antonín Theodor Colloredo-Waldsee. Kostel byl dokončen v roce 1805. V roce 1835 byly provedeny úpravy interiéru: zhotoveny dva boční oltáře, kazatelna, křtitelnice, zakoupeny lavice a varhany. V roce 1856 udeřil do věže kostela blesk a při následném požáru se roztavil jeden ze zvonů. V roce 1862 byly pořízeny věžní hodiny. V roce 1907 byla provedena generální oprava interiéru. V době 1. světové války přišel kostel o dva zvony, ale již v roce 1918 byla vyhlášena sbírka a zakoupen nový zvon od firmy Manoušek z Brna. V dalších letech 20. století byly na kostele prováděny jen menší udržovací opravy a jeho celkový stav se zhoršoval vlivem vzlínající vlhkosti. Generální oprava včetně statického zajištění, odvlhčení, rekonstrukce varhan a úpravy interiéru byla provedena v letech 2009 - 2013.'},\n",
       " {'id': 'B41_4',\n",
       "  'did': 'B41',\n",
       "  'bid': 4,\n",
       "  'text': 'Životní cyklus.\\nVýroba začala v září 1960. B41 byla zařazena do arzenálu US Army v roce 1961. Do června 1962 jich bylo vyrobeno asi 500 kusů. Od roku 1963, kdy byla vyvinuta B53, byla B41 postupně odstavena. V roce 1968 dostala označení B41. Poslední B41 byly odepsány v červnu 1976.',\n",
       "  'url': 'https://cs.wikipedia.org/wiki?curid=228654',\n",
       "  'revid': '6495',\n",
       "  'nei_id': 'B41_3',\n",
       "  'nei_bid': 3,\n",
       "  'nei_text': 'Parametry.\\nZbraň byla dlouhá 376 cm, její průměr byl 132 cm. Vážila 4\\xa0850 kg. Nést ji mohly letouny B-52 a B-47. Mohla být vypuštěna volným pádem nebo s padákem a mohla být nastavena na výbuch ve vzduchu, s kontaktem se zemí nebo zpožděnou detonací (např. pokud by její cíl měl být pod vodou).'},\n",
       " {'id': 'Halloween_je_horor_7',\n",
       "  'did': 'Halloween_je_horor',\n",
       "  'bid': 7,\n",
       "  'text': 'Během závěrečných titulků Maggie najde napůl spálený ocásek, který se zázračně obnoví za zvuků melodie z filmu \"Halloween\" od Johna Carpentera.\\nPřijetí.\\nEpizoda získala rating 1,7 a sledovalo ji celkem 3,69 milionu diváků, čímž se stala nejsledovanějším pořadem stanice Fox té noci.\\nDennis Perkins z \"The A.V. Club\" udělil epizodě známku A− a uvedl: „Bezvadně zrežírovaný, charakterově založený příběh o dětských obavách a dospělé zodpovědnosti, epizoda, za kterou je zodpovědná scenáristka Carolyn Omineová, je jednou z nejjistějších, nejlidštějších a přímo nejlepších dílů \"Simpsonových\" za poslední roky.“.',\n",
       "  'url': 'https://cs.wikipedia.org/wiki?curid=1703705',\n",
       "  'revid': '417807',\n",
       "  'nei_id': 'Halloween_je_horor_0',\n",
       "  'nei_bid': 0,\n",
       "  'nei_text': 'Halloween je horor'}]"
      ]
     },
     "execution_count": 10,
     "metadata": {},
     "output_type": "execute_result"
    }
   ],
   "source": [
    "corpus_recs_lst[1][:10]"
   ]
  },
  {
   "cell_type": "code",
   "execution_count": 13,
   "metadata": {},
   "outputs": [
    {
     "name": "stderr",
     "output_type": "stream",
     "text": [
      "100%|██████████| 2/2 [01:35<00:00, 47.99s/it]\n"
     ]
    }
   ],
   "source": [
    "qgs = generate_questions(corpus_recs_lst[1][:2], nei_ners, None, batch_question_generator, nei=True)"
   ]
  },
  {
   "cell_type": "code",
   "execution_count": 14,
   "metadata": {},
   "outputs": [
    {
     "data": {
      "text/plain": [
       "OrderedDict([('Nevěsta_duchů_2',\n",
       "              {'Altenburg:::P': ['Kdo byl přepaden a zabit?', 'Altenburg'],\n",
       "               'Landhorstu:::G': ['Kde se nachází hrabě, který má dceru?',\n",
       "                'Landhorstu'],\n",
       "               'Altenburga:::P': ['Kdo byl hrabě z Landhorstu, který si zaslíbil nevěstu?',\n",
       "                'Altenburga'],\n",
       "               'Starkenberg:::P': ['Kdo je přítelem zavražděného hraběte Altenburga?',\n",
       "                'Starkenberg'],\n",
       "               'Luitgarde:::P': ['Jak se jmenuje hrabě z Landhorstu?',\n",
       "                'Luitgarde'],\n",
       "               'Luitgardina:::P': ['Kdo je hrabě z Landhorstu a jeho dcera?',\n",
       "                'Luitgardina'],\n",
       "               'Langhorst:::P': ['Kdo je hrabě, který je ženatý?',\n",
       "                'Langhorst']})])"
      ]
     },
     "execution_count": 14,
     "metadata": {},
     "output_type": "execute_result"
    }
   ],
   "source": [
    "qgs"
   ]
  },
  {
   "cell_type": "code",
   "execution_count": null,
   "metadata": {},
   "outputs": [],
   "source": []
  },
  {
   "cell_type": "code",
   "execution_count": null,
   "metadata": {},
   "outputs": [],
   "source": []
  },
  {
   "cell_type": "code",
   "execution_count": null,
   "metadata": {},
   "outputs": [],
   "source": []
  },
  {
   "cell_type": "code",
   "execution_count": null,
   "metadata": {},
   "outputs": [],
   "source": [
    "class ClaimGenerator:\n",
    "    def __init__(self, replacement_generator, corpus_recs, ner_json, qas_json, QA2D_model_path, lang, device=\"cuda\"):\n",
    "        # QA2D model object\n",
    "        print('Loading QA2D module >>>>>>>>')\n",
    "        model_args = ModelArguments(model_name_or_path=QA2D_model_path)\n",
    "        self.tokenizer, self.model, data_collator = load_tokenizer_and_model(model_args, lang=lang)\n",
    "        print(f'Running on device: {device}')\n",
    "        # self.model, self.tokenizer = model, tokenizer # TODO REMOVE\n",
    "        self.device = device\n",
    "        self.model.to(device)\n",
    "\n",
    "        self.replacement_generator = replacement_generator\n",
    "\n",
    "        self.corpus_recs = corpus_recs\n",
    "        self.ners = read_json(ner_json)\n",
    "        self.qas = read_json(qas_json)\n",
    "\n",
    "    def predict(self, inputs, max_source_length=1024, batch_size=16):\n",
    "        def pred_func(input_texts: List[str]) -> List[str]:\n",
    "            with torch.no_grad():\n",
    "                X = self.tokenizer(input_texts, max_length=max_source_length, padding=True, truncation=True, return_tensors=\"pt\")\n",
    "                X = {k: X[k].to(self.device) for k in X.keys()}\n",
    "                Y = self.model.generate(**X, max_new_tokens=768)\n",
    "                output_texts = self.tokenizer.batch_decode(\n",
    "                    Y, skip_special_tokens=True, clean_up_tokenization_spaces=True\n",
    "                )\n",
    "            return output_texts\n",
    "            \n",
    "        predictions = batch_apply(pred_func, inputs, batch_size=batch_size)\n",
    "        return predictions\n",
    "\n",
    "    def _load_passage_entities(self, id_):\n",
    "        passage_entities = []\n",
    "        for ent_text, ent_type, _ in self.ners[id_]:\n",
    "            passage_entities.append(f'{ent_text}:::{ent_type}') # group by entity name and type as in the QAS file\n",
    "        return passage_entities\n",
    "    \n",
    "    def _load_precomputed_qas_for_entities(self, id_, passage_entities):\n",
    "        if id_ not in self.qas:\n",
    "            print(f\"missing id: {id_}\")\n",
    "            return None\n",
    "        QA_for_sample = self.qas[id_]\n",
    "        QA_pairs = []\n",
    "        for entity in passage_entities:\n",
    "            if entity in QA_for_sample:\n",
    "                ent_text, ent_type = entity.split(':::')\n",
    "                question, answer = QA_for_sample[entity]\n",
    "                QA_pairs.append({'question': question, 'answer': answer, 'answer_type': ent_type})\n",
    "            else:\n",
    "                print(f\"missing entity: {entity} for id: {id_}\")\n",
    "                return None\n",
    "        if len(QA_pairs) == 0:\n",
    "            print(f\"zero length pairs for id: {id_}\")\n",
    "            return None\n",
    "        return QA_pairs \n",
    "        \n",
    "\n",
    "    def generate_supported_claims(self, sample):\n",
    "        texts, id_ = sample['text'], str(sample['id'])\n",
    "\n",
    "        # Step 1: load entities in text\n",
    "        passage_entities = self._load_passage_entities(id_)\n",
    "        if len(passage_entities) == 0: # no NERs\n",
    "            return None \n",
    "\n",
    "        # Step 2: load precomputed QAs for entities\n",
    "        QA_pairs = self._load_precomputed_qas_for_entities(id_, passage_entities)\n",
    "        if QA_pairs is None:\n",
    "            return None\n",
    "\n",
    "        # Step 3: QA2D\n",
    "        # to_predict = [qa['question'] + ' [SEP] ' + qa['answer'] for qa in QA_pairs] # original model\n",
    "        to_predict = [qa['answer'] + '</s>' + qa['question'] for qa in QA_pairs]\n",
    "        results = []\n",
    "        # try:\n",
    "        results = self.predict(to_predict)\n",
    "        # except:\n",
    "            # return None\n",
    "        if len(results) == 0:\n",
    "            print(f\"zero length results for id: {id_}\")\n",
    "            return None\n",
    "\n",
    "        assert len(results) == len(QA_pairs)\n",
    "\n",
    "        claims_for_sample = OrderedDict()\n",
    "        for ent, claim in zip(passage_entities, results):\n",
    "            claims_for_sample[ent] = claim\n",
    "        return claims_for_sample\n",
    "    \n",
    "\n",
    "    def generate_nei_claims(self, sample):\n",
    "        pass\n",
    "\n",
    "\n",
    "    def generate(self, claims_json, claim_type: str, save_every=0, cont=False):\n",
    "        claim_type = claim_type.lower()\n",
    "        assert claim_type in [\"support\", \"refute\", \"nei\"]\n",
    "        start = 0\n",
    "        if Path(claims_json).is_file():\n",
    "            if cont:\n",
    "                generated_claims = read_json(claims_json)\n",
    "                print(f\"file exists: {claims_json}, completed: {len(generated_claims)-1}/{len(self.corpus_recs)}\")\n",
    "                start = len(generated_claims)\n",
    "            else:\n",
    "                # print(\"--------------FIX!!!!!!!!!!!-------------------------\")\n",
    "                # generated_claims = read_json(claims_json)\n",
    "                raise FileExistsError(f\"File already exists: {claims_json} !!!\")\n",
    "        else:\n",
    "            generated_claims = dict() # ordered since P3.7\n",
    "        cnt = 1\n",
    "        for sample in tqdm(self.corpus_recs[start:], initial=start, total=len(self.corpus_recs)):\n",
    "            id_ = str(sample['id'])\n",
    "            if claim_type == \"support\":\n",
    "                claims = self.generate_supported_claims(sample)\n",
    "            elif claim_type == \"refute\":\n",
    "                claims = self.generate_refute_local_claims(sample)\n",
    "            elif claim_type == \"nei\":\n",
    "                claims = self.generate_nei_claims(sample)\n",
    "            if claims is None:\n",
    "                claims = {}\n",
    "            generated_claims[id_] = claims\n",
    "            cnt += 1\n",
    "            if save_every > 0 and cnt % save_every == 0:\n",
    "                write_json(claims_json, generated_claims, mkdir=True)\n",
    "\n",
    "        write_json(claims_json, generated_claims, mkdir=True)"
   ]
  }
 ],
 "metadata": {
  "kernelspec": {
   "display_name": "fc_env_plight_env",
   "language": "python",
   "name": "fc_env_plight_env"
  },
  "orig_nbformat": 4
 },
 "nbformat": 4,
 "nbformat_minor": 2
}
